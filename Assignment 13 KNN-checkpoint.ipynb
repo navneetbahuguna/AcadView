{
 "cells": [
  {
   "cell_type": "code",
   "execution_count": 1,
   "metadata": {},
   "outputs": [],
   "source": [
    "import pandas as pd\n",
    "import seaborn as sns\n",
    "from sklearn.model_selection import train_test_split\n",
    "from sklearn.neighbors import KNeighborsClassifier\n"
   ]
  },
  {
   "cell_type": "markdown",
   "metadata": {},
   "source": [
    "# 1) Import the dataset from sklearn."
   ]
  },
  {
   "cell_type": "code",
   "execution_count": 4,
   "metadata": {},
   "outputs": [
    {
     "name": "stdout",
     "output_type": "stream",
     "text": [
      "(1797, 64)\n"
     ]
    }
   ],
   "source": [
    "from sklearn.datasets import load_digits\n",
    "digits=load_digits()\n",
    "print(digits.data.shape)"
   ]
  },
  {
   "cell_type": "code",
   "execution_count": null,
   "metadata": {},
   "outputs": [],
   "source": [
    "\n"
   ]
  },
  {
   "cell_type": "code",
   "execution_count": 9,
   "metadata": {},
   "outputs": [
    {
     "name": "stdout",
     "output_type": "stream",
     "text": [
      "(1797,)\n"
     ]
    }
   ],
   "source": [
    "print(digits.target.shape)"
   ]
  },
  {
   "cell_type": "markdown",
   "metadata": {},
   "source": [
    "# 2) Save X(features) and y(target) as dataframes. X is np.array(mnist.data) and y is mnist.target. "
   ]
  },
  {
   "cell_type": "code",
   "execution_count": 11,
   "metadata": {},
   "outputs": [],
   "source": [
    "x=digits.data\n",
    "y=digits.target"
   ]
  },
  {
   "cell_type": "markdown",
   "metadata": {},
   "source": [
    "# 3) Split the dataset into training and testing sets."
   ]
  },
  {
   "cell_type": "code",
   "execution_count": 12,
   "metadata": {},
   "outputs": [
    {
     "name": "stdout",
     "output_type": "stream",
     "text": [
      "(1437, 64)\n",
      "(360, 64)\n",
      "(1437,)\n",
      "(360,)\n"
     ]
    }
   ],
   "source": [
    "x_train, x_test, y_train, y_test=train_test_split(x, y, test_size=0.20)\n",
    "print(x_train.shape)\n",
    "print(x_test.shape)\n",
    "print(y_train.shape)\n",
    "print(y_test.shape)"
   ]
  },
  {
   "cell_type": "markdown",
   "metadata": {},
   "source": [
    "# 4) Use KNN"
   ]
  },
  {
   "cell_type": "code",
   "execution_count": 17,
   "metadata": {},
   "outputs": [
    {
     "name": "stdout",
     "output_type": "stream",
     "text": [
      "[5 4 8 4 8 2 1 7 3 8 6 1 2 1 7 0 1 4 9 1 2 3 3 9 8 6 0 1 5 1 7 0 6 1 2 0 6\n",
      " 1 7 6 9 1 3 5 0 5 1 6 2 0 6 2 3 6 7 8 5 3 2 9 0 0 7 1 2 3 0 1 7 7 0 1 9 1\n",
      " 3 9 2 6 1 5 0 8 9 6 4 2 5 3 9 3 1 5 3 6 9 2 7 8 4 1 4 4 9 9 8 8 8 2 8 6 4\n",
      " 2 1 5 4 6 7 8 2 0 3 0 7 0 4 0 8 4 7 5 6 9 3 4 9 3 3 7 7 4 5 9 8 9 8 2 8 4\n",
      " 0 2 8 0 1 2 1 7 0 7 4 3 0 0 0 2 6 3 1 8 1 5 1 5 6 3 2 9 3 6 8 9 9 4 2 0 1\n",
      " 2 3 7 4 1 1 2 9 1 0 3 7 7 5 2 1 5 5 1 2 2 7 9 4 6 2 9 5 5 5 5 6 8 1 8 5 1\n",
      " 8 4 4 9 5 6 9 2 3 2 9 2 1 5 7 1 3 3 9 9 3 9 0 1 4 8 0 9 1 4 7 0 1 3 7 6 0\n",
      " 9 1 8 8 2 0 0 7 1 1 4 3 3 1 9 0 5 9 7 1 3 2 3 7 5 3 6 6 4 0 2 6 6 2 1 3 2\n",
      " 7 3 7 0 2 3 3 4 7 6 6 6 0 7 0 2 7 8 7 9 3 1 7 4 8 6 5 6 7 9 4 8 8 9 6 9 7\n",
      " 9 5 6 8 9 3 2 2 5 6 4 3 1 4 9 4 8 4 5 0 8 6 0 3 4 1 7]\n"
     ]
    }
   ],
   "source": [
    "knn=KNeighborsClassifier(n_neighbors=3)\n",
    "knn.fit(x_train, y_train)\n",
    "pre=knn.predict(x_test)\n",
    "print(pre)"
   ]
  },
  {
   "cell_type": "code",
   "execution_count": null,
   "metadata": {},
   "outputs": [],
   "source": []
  },
  {
   "cell_type": "markdown",
   "metadata": {},
   "source": [
    "# 5) Print the knn score."
   ]
  },
  {
   "cell_type": "code",
   "execution_count": 18,
   "metadata": {},
   "outputs": [
    {
     "name": "stdout",
     "output_type": "stream",
     "text": [
      "0.9923451635351427\n"
     ]
    }
   ],
   "source": [
    "sc=knn.score(x_train, y_train)\n",
    "print(sc)"
   ]
  },
  {
   "cell_type": "code",
   "execution_count": null,
   "metadata": {},
   "outputs": [],
   "source": []
  }
 ],
 "metadata": {
  "kernelspec": {
   "display_name": "Python 3",
   "language": "python",
   "name": "python3"
  },
  "language_info": {
   "codemirror_mode": {
    "name": "ipython",
    "version": 3
   },
   "file_extension": ".py",
   "mimetype": "text/x-python",
   "name": "python",
   "nbconvert_exporter": "python",
   "pygments_lexer": "ipython3",
   "version": "3.6.4"
  }
 },
 "nbformat": 4,
 "nbformat_minor": 2
}
