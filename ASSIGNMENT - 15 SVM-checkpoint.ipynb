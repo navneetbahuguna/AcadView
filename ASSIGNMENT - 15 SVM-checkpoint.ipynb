{
 "cells": [
  {
   "cell_type": "code",
   "execution_count": 5,
   "metadata": {},
   "outputs": [],
   "source": [
    "import pandas as pd\n",
    "from sklearn.datasets import load_digits\n",
    "d=load_digits()"
   ]
  },
  {
   "cell_type": "code",
   "execution_count": 7,
   "metadata": {},
   "outputs": [],
   "source": [
    "x=d.data\n",
    "y=d.target"
   ]
  },
  {
   "cell_type": "code",
   "execution_count": 8,
   "metadata": {},
   "outputs": [
    {
     "name": "stdout",
     "output_type": "stream",
     "text": [
      "(1437, 64)\n",
      "(360, 64)\n",
      "(1437,)\n",
      "(360,)\n"
     ]
    }
   ],
   "source": [
    "from sklearn.model_selection import train_test_split\n",
    "x_train, x_test=train_test_split(x, test_size=0.2)\n",
    "y_train, y_test=train_test_split(y, test_size=0.2)\n",
    "print(x_train.shape)\n",
    "print(x_test.shape)\n",
    "print(y_train.shape)\n",
    "print(y_test.shape)"
   ]
  },
  {
   "cell_type": "code",
   "execution_count": 9,
   "metadata": {},
   "outputs": [
    {
     "name": "stdout",
     "output_type": "stream",
     "text": [
      "[8 2 4 3 6 5 8 9 6 8 1 9 9 0 6 1 4 6 0 5 4 2 5 5 8 7 3 2 2 7 8 8 6 4 9 1 8\n",
      " 2 8 0 1 0 7 9 5 0 4 9 2 6 0 8 3 4 0 3 3 2 3 1 6 4 1 0 4 4 4 6 7 3 3 3 2 2\n",
      " 4 0 5 3 8 1 1 1 4 0 6 5 7 2 2 3 7 1 5 7 5 4 8 7 3 8 0 5 4 2 0 6 0 0 0 6 0\n",
      " 1 8 1 9 8 1 5 1 9 1 2 8 0 6 1 0 4 3 8 3 3 8 7 3 0 2 5 1 3 6 4 5 0 2 5 2 3\n",
      " 4 7 3 9 0 3 7 0 4 4 3 3 3 8 5 0 6 1 1 5 7 1 2 8 4 4 2 2 6 1 2 7 1 2 1 7 6\n",
      " 0 5 5 1 1 0 9 2 9 0 2 9 7 6 6 2 1 5 7 3 1 6 9 2 6 7 1 1 0 1 5 0 2 1 0 3 3\n",
      " 4 5 5 5 8 4 6 1 4 1 7 7 8 5 2 5 1 5 4 6 5 2 1 5 6 9 1 2 1 1 6 8 5 2 1 1 5\n",
      " 3 0 1 6 8 7 5 5 0 0 5 9 0 5 6 3 5 9 5 1 4 6 5 3 0 1 6 1 8 4 0 3 4 3 9 0 0\n",
      " 8 3 9 7 3 8 5 7 2 2 7 7 6 3 7 2 5 6 0 5 4 6 6 4 2 1 2 0 0 0 1 7 3 5 2 2 0\n",
      " 0 3 4 5 2 7 0 4 2 5 4 0 3 6 0 9 9 2 0 3 3 3 2 5 0 4 5]\n"
     ]
    }
   ],
   "source": [
    "from sklearn.svm import SVC\n",
    "sv=SVC(kernel='poly', degree=4)\n",
    "sv.fit(x_train, y_train)\n",
    "pr=sv.predict(x_test)\n",
    "print(pr)"
   ]
  },
  {
   "cell_type": "code",
   "execution_count": 11,
   "metadata": {},
   "outputs": [
    {
     "name": "stdout",
     "output_type": "stream",
     "text": [
      "1.0\n"
     ]
    }
   ],
   "source": [
    "sc=sv.score(x_train, y_train)\n",
    "print(sc)"
   ]
  },
  {
   "cell_type": "code",
   "execution_count": 20,
   "metadata": {},
   "outputs": [
    {
     "name": "stdout",
     "output_type": "stream",
     "text": [
      "             precision    recall  f1-score   support\n",
      "\n",
      "          0       0.10      0.19      0.13        27\n",
      "          1       0.11      0.15      0.12        34\n",
      "          2       0.10      0.11      0.10        38\n",
      "          3       0.15      0.14      0.15        42\n",
      "          4       0.06      0.06      0.06        31\n",
      "          5       0.07      0.09      0.08        32\n",
      "          6       0.06      0.05      0.06        39\n",
      "          7       0.07      0.06      0.06        36\n",
      "          8       0.19      0.14      0.16        36\n",
      "          9       0.10      0.04      0.06        45\n",
      "\n",
      "avg / total       0.10      0.10      0.10       360\n",
      "\n",
      "[[5 2 3 6 1 3 2 0 3 2]\n",
      " [5 5 5 4 3 6 3 2 0 1]\n",
      " [7 5 4 3 3 8 1 3 2 2]\n",
      " [2 4 5 6 8 5 3 4 3 2]\n",
      " [2 6 4 2 2 3 6 4 1 1]\n",
      " [5 3 3 6 3 3 1 4 3 1]\n",
      " [6 2 6 4 2 4 2 3 6 4]\n",
      " [5 8 3 4 3 3 4 2 1 3]\n",
      " [4 6 2 3 3 5 4 2 5 2]\n",
      " [7 5 6 2 6 5 7 3 2 2]]\n"
     ]
    }
   ],
   "source": [
    "from sklearn.metrics import classification_report, confusion_matrix\n",
    "print(classification_report(y_test, pr))\n",
    "print(confusion_matrix(y_test, pr))"
   ]
  },
  {
   "cell_type": "code",
   "execution_count": 21,
   "metadata": {},
   "outputs": [
    {
     "name": "stdout",
     "output_type": "stream",
     "text": [
      "1.0\n",
      "             precision    recall  f1-score   support\n",
      "\n",
      "          0       1.00      1.00      1.00        27\n",
      "          1       1.00      1.00      1.00        34\n",
      "          2       1.00      1.00      1.00        38\n",
      "          3       1.00      1.00      1.00        42\n",
      "          4       1.00      1.00      1.00        31\n",
      "          5       1.00      1.00      1.00        32\n",
      "          6       1.00      1.00      1.00        39\n",
      "          7       1.00      1.00      1.00        36\n",
      "          8       1.00      1.00      1.00        36\n",
      "          9       1.00      1.00      1.00        45\n",
      "\n",
      "avg / total       1.00      1.00      1.00       360\n",
      "\n",
      "[[27  0  0  0  0  0  0  0  0  0]\n",
      " [ 0 34  0  0  0  0  0  0  0  0]\n",
      " [ 0  0 38  0  0  0  0  0  0  0]\n",
      " [ 0  0  0 42  0  0  0  0  0  0]\n",
      " [ 0  0  0  0 31  0  0  0  0  0]\n",
      " [ 0  0  0  0  0 32  0  0  0  0]\n",
      " [ 0  0  0  0  0  0 39  0  0  0]\n",
      " [ 0  0  0  0  0  0  0 36  0  0]\n",
      " [ 0  0  0  0  0  0  0  0 36  0]\n",
      " [ 0  0  0  0  0  0  0  0  0 45]]\n"
     ]
    }
   ],
   "source": [
    "sv2=SVC(kernel='rbf')\n",
    "sv2.fit(x_test, y_test)\n",
    "pr2=sv2.predict(x_test)\n",
    "print(sv2.score(x_test, y_test))\n",
    "print(classification_report(y_test, pr2))\n",
    "print(confusion_matrix(y_test, pr2))"
   ]
  },
  {
   "cell_type": "code",
   "execution_count": 22,
   "metadata": {},
   "outputs": [
    {
     "name": "stdout",
     "output_type": "stream",
     "text": [
      "0.075\n",
      "             precision    recall  f1-score   support\n",
      "\n",
      "          0       0.07      1.00      0.14        27\n",
      "          1       0.00      0.00      0.00        34\n",
      "          2       0.00      0.00      0.00        38\n",
      "          3       0.00      0.00      0.00        42\n",
      "          4       0.00      0.00      0.00        31\n",
      "          5       0.00      0.00      0.00        32\n",
      "          6       0.00      0.00      0.00        39\n",
      "          7       0.00      0.00      0.00        36\n",
      "          8       0.00      0.00      0.00        36\n",
      "          9       0.00      0.00      0.00        45\n",
      "\n",
      "avg / total       0.01      0.07      0.01       360\n",
      "\n",
      "[[27  0  0  0  0  0  0  0  0  0]\n",
      " [34  0  0  0  0  0  0  0  0  0]\n",
      " [38  0  0  0  0  0  0  0  0  0]\n",
      " [42  0  0  0  0  0  0  0  0  0]\n",
      " [31  0  0  0  0  0  0  0  0  0]\n",
      " [32  0  0  0  0  0  0  0  0  0]\n",
      " [39  0  0  0  0  0  0  0  0  0]\n",
      " [36  0  0  0  0  0  0  0  0  0]\n",
      " [36  0  0  0  0  0  0  0  0  0]\n",
      " [45  0  0  0  0  0  0  0  0  0]]\n"
     ]
    },
    {
     "name": "stderr",
     "output_type": "stream",
     "text": [
      "C:\\ProgramData\\Anaconda3\\lib\\site-packages\\sklearn\\metrics\\classification.py:1135: UndefinedMetricWarning: Precision and F-score are ill-defined and being set to 0.0 in labels with no predicted samples.\n",
      "  'precision', 'predicted', average, warn_for)\n"
     ]
    }
   ],
   "source": [
    "sv3=SVC(kernel='sigmoid')\n",
    "sv3.fit(x_train, y_train)\n",
    "pr3=sv3.predict(x_test)\n",
    "print(sv3.score(x_test, y_test))\n",
    "print(classification_report(y_test, pr3))\n",
    "print(confusion_matrix(y_test, pr3))"
   ]
  },
  {
   "cell_type": "code",
   "execution_count": 23,
   "metadata": {},
   "outputs": [
    {
     "name": "stdout",
     "output_type": "stream",
     "text": [
      "0.1111111111111111\n",
      "             precision    recall  f1-score   support\n",
      "\n",
      "          0       0.08      0.19      0.11        27\n",
      "          1       0.12      0.12      0.12        34\n",
      "          2       0.12      0.13      0.13        38\n",
      "          3       0.12      0.10      0.11        42\n",
      "          4       0.14      0.23      0.18        31\n",
      "          5       0.12      0.19      0.15        32\n",
      "          6       0.07      0.05      0.06        39\n",
      "          7       0.00      0.00      0.00        36\n",
      "          8       0.23      0.19      0.21        36\n",
      "          9       0.00      0.00      0.00        45\n",
      "\n",
      "avg / total       0.10      0.11      0.10       360\n",
      "\n",
      "[[ 5  2  3  2  5  4  2  3  1  0]\n",
      " [ 7  4  1  3  5  3  3  3  3  2]\n",
      " [ 6  1  5  6  3  7  3  3  2  2]\n",
      " [ 3  5  7  4  8  3  2  4  4  2]\n",
      " [ 6  2  5  1  7  2  3  2  2  1]\n",
      " [ 6  3  3  3  3  6  2  1  4  1]\n",
      " [ 8  5  3  3  4  6  2  4  2  2]\n",
      " [ 9  3  2  6  1  8  3  0  2  2]\n",
      " [ 2  2  6  4  3  5  3  3  7  1]\n",
      " [ 8  7  5  1 10  4  4  3  3  0]]\n"
     ]
    }
   ],
   "source": [
    "sv4=SVC(kernel='linear')\n",
    "sv4.fit(x_train, y_train)\n",
    "pr4=sv4.predict(x_test)\n",
    "print(sv4.score(x_test, y_test))\n",
    "print(classification_report(y_test, pr4))\n",
    "print(confusion_matrix(y_test, pr4))"
   ]
  },
  {
   "cell_type": "markdown",
   "metadata": {},
   "source": [
    "we can see that in all algorithm:-\n",
    "    1:RBF give most accurate result comparison to other algorithm"
   ]
  }
 ],
 "metadata": {
  "kernelspec": {
   "display_name": "Python 3",
   "language": "python",
   "name": "python3"
  },
  "language_info": {
   "codemirror_mode": {
    "name": "ipython",
    "version": 3
   },
   "file_extension": ".py",
   "mimetype": "text/x-python",
   "name": "python",
   "nbconvert_exporter": "python",
   "pygments_lexer": "ipython3",
   "version": "3.6.4"
  }
 },
 "nbformat": 4,
 "nbformat_minor": 2
}
