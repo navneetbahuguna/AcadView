{
 "cells": [
  {
   "cell_type": "code",
   "execution_count": 7,
   "metadata": {},
   "outputs": [
    {
     "data": {
      "text/plain": [
       "0.10185185185185185"
      ]
     },
     "execution_count": 7,
     "metadata": {},
     "output_type": "execute_result"
    }
   ],
   "source": [
    "#Q.1\n",
    "Pa=11/36\n",
    "Pb=1/6\n",
    "Pab=1/18\n",
    "def func(Pa, Pb, Pab):\n",
    "    return Pab*Pa/Pb\n",
    "\n",
    "func( Pa, Pb, Pab )\n",
    "    "
   ]
  },
  {
   "cell_type": "code",
   "execution_count": 10,
   "metadata": {},
   "outputs": [
    {
     "name": "stdout",
     "output_type": "stream",
     "text": [
      "[4]\n",
      "[1.05882353]\n"
     ]
    }
   ],
   "source": [
    "#Q.2\n",
    "#Bag I contains 4 white and 6 black balls while another Bag II contains 4 white and 3 black balls\n",
    "#total ball in 1 = 10\n",
    "#total ball in 2 = 7\n",
    "\n",
    "import numpy as np\n",
    "\n",
    "a = np.intersect1d([4, 6], [4, 3])\n",
    "print(a)\n",
    "result = a*0.5*(9/17)\n",
    "print(result)"
   ]
  },
  {
   "cell_type": "code",
   "execution_count": 14,
   "metadata": {},
   "outputs": [
    {
     "name": "stdout",
     "output_type": "stream",
     "text": [
      "0.2857142857142857\n"
     ]
    }
   ],
   "source": [
    "#Q.3\n",
    "'''P(S1)= Probability that four actually occurs = 1/6\n",
    "\n",
    "P(S2)= Probability that four doesn't occur= 5/6\n",
    "\n",
    "P(E|S1)= Probability that the man reports four when four has actually occurred = 2/3\n",
    "P(E|S2)= Probability that the man reports four when four has not occurred = 1−2/3=1/3'''\n",
    "\n",
    "result = (1/6 * 2/3)/((1/6 * 2/3)+(5/6 * 1/3))\n",
    "print(result)"
   ]
  },
  {
   "cell_type": "code",
   "execution_count": null,
   "metadata": {},
   "outputs": [],
   "source": []
  }
 ],
 "metadata": {
  "kernelspec": {
   "display_name": "Python 3",
   "language": "python",
   "name": "python3"
  },
  "language_info": {
   "codemirror_mode": {
    "name": "ipython",
    "version": 3
   },
   "file_extension": ".py",
   "mimetype": "text/x-python",
   "name": "python",
   "nbconvert_exporter": "python",
   "pygments_lexer": "ipython3",
   "version": "3.6.4"
  }
 },
 "nbformat": 4,
 "nbformat_minor": 2
}
