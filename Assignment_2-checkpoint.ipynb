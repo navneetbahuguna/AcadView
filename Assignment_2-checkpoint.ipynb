{
 "cells": [
  {
   "cell_type": "code",
   "execution_count": 3,
   "metadata": {},
   "outputs": [
    {
     "name": "stdout",
     "output_type": "stream",
     "text": [
      "[[0.06168867]\n",
      " [0.1780519 ]\n",
      " [0.5648826 ]\n",
      " [0.63471721]\n",
      " [0.83393622]\n",
      " [0.50514855]\n",
      " [0.58836179]\n",
      " [0.2453832 ]\n",
      " [0.91948793]\n",
      " [0.27987795]]\n"
     ]
    },
    {
     "data": {
      "text/plain": [
       "0.48115360096240334"
      ]
     },
     "execution_count": 3,
     "metadata": {},
     "output_type": "execute_result"
    }
   ],
   "source": [
    "#Q.1\n",
    "import numpy as np\n",
    "a=np.random.rand(10,1)\n",
    "print(a)\n",
    "np.mean(a)"
   ]
  },
  {
   "cell_type": "code",
   "execution_count": 6,
   "metadata": {},
   "outputs": [
    {
     "name": "stdout",
     "output_type": "stream",
     "text": [
      "[[0.72915923]\n",
      " [0.28900953]\n",
      " [0.68360056]\n",
      " [0.85330483]\n",
      " [0.15190951]\n",
      " [0.20581286]\n",
      " [0.04971941]\n",
      " [0.68884298]\n",
      " [0.75233373]\n",
      " [0.2924989 ]\n",
      " [0.85438374]\n",
      " [0.4252192 ]\n",
      " [0.48871911]\n",
      " [0.80967938]\n",
      " [0.2325416 ]\n",
      " [0.94874396]\n",
      " [0.13765094]\n",
      " [0.17883514]\n",
      " [0.38500134]\n",
      " [0.46981432]]\n"
     ]
    },
    {
     "data": {
      "text/plain": [
       "0.2784016359137739"
      ]
     },
     "execution_count": 6,
     "metadata": {},
     "output_type": "execute_result"
    }
   ],
   "source": [
    "#Q.2\n",
    "import numpy as np\n",
    "a=np.random.rand(20,1)\n",
    "print(a)\n",
    "np.std(a)"
   ]
  },
  {
   "cell_type": "code",
   "execution_count": 4,
   "metadata": {},
   "outputs": [
    {
     "data": {
      "text/plain": [
       "(10, 25)"
      ]
     },
     "execution_count": 4,
     "metadata": {},
     "output_type": "execute_result"
    }
   ],
   "source": [
    "#Q.3\n",
    "import numpy as np\n",
    "A=np.random.rand(10,20)\n",
    "B=np.random.rand(20,25)\n",
    "\n",
    "b=np.matmul(A,B)\n",
    "print(b)\n",
    "np.shape(b)"
   ]
  },
  {
   "cell_type": "code",
   "execution_count": 6,
   "metadata": {},
   "outputs": [
    {
     "name": "stdout",
     "output_type": "stream",
     "text": [
      "[[0.36391011]\n",
      " [0.08786324]\n",
      " [0.2552711 ]\n",
      " [0.73001456]\n",
      " [0.52373546]\n",
      " [0.78581839]\n",
      " [0.88576962]\n",
      " [0.80409805]\n",
      " [0.79235588]\n",
      " [0.98668605]]\n",
      "**************************************************\n",
      "[[0.58998663]\n",
      " [0.52195169]\n",
      " [0.56347347]\n",
      " [0.67480847]\n",
      " [0.62802083]\n",
      " [0.68693275]\n",
      " [0.7080164 ]\n",
      " [0.69085041]\n",
      " [0.68833696]\n",
      " [0.72843286]]\n"
     ]
    }
   ],
   "source": [
    "#Q.4\n",
    "import numpy as np\n",
    "A=np.random.rand(10,1)\n",
    "print(A)\n",
    "\n",
    "def func(x):\n",
    "    return (1 / (1 + np.exp(-x)))\n",
    "\n",
    "result = np.apply_along_axis(func, 0, A)\n",
    "\n",
    "print('*'*50)\n",
    "\n",
    "print(result)"
   ]
  },
  {
   "cell_type": "code",
   "execution_count": null,
   "metadata": {},
   "outputs": [],
   "source": []
  }
 ],
 "metadata": {
  "kernelspec": {
   "display_name": "Python 3",
   "language": "python",
   "name": "python3"
  },
  "language_info": {
   "codemirror_mode": {
    "name": "ipython",
    "version": 3
   },
   "file_extension": ".py",
   "mimetype": "text/x-python",
   "name": "python",
   "nbconvert_exporter": "python",
   "pygments_lexer": "ipython3",
   "version": "3.6.4"
  }
 },
 "nbformat": 4,
 "nbformat_minor": 2
}
