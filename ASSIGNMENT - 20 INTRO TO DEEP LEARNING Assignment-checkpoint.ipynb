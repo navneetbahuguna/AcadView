{
 "cells": [
  {
   "cell_type": "markdown",
   "metadata": {},
   "source": [
    "## Q.1- Consider the following diagram:\n",
    " \n",
    "## where  a, b, and c are inputs u = a * b  v = a * c  w = b + c  F = u + v - w\n",
    "\n",
    "## What is the value of F? Give answer in the simplest form"
   ]
  },
  {
   "cell_type": "markdown",
   "metadata": {},
   "source": [
    "Given\n",
    "u = a*b, v = a*c, w = b+c , f = u+v-w\n",
    "\n",
    "f = u + v - w\n",
    "  = (a*b) + (a*c) - (b+c)\n",
    "  = a(b+c)  -  (b+c)\n",
    "  = (b+c)(a-1)  Ans\n",
    "   \n",
    "   "
   ]
  },
  {
   "cell_type": "markdown",
   "metadata": {},
   "source": [
    "## Q.2- The input values and weights, along with the activation function, are given below. Find the values of x and output (f(x)). \n",
    "## If bias is -1.1, then what is the output? Is there any change? Why do we need bias?"
   ]
  },
  {
   "cell_type": "markdown",
   "metadata": {},
   "source": [
    "Given:\n",
    "sigmoid function = 1/1+e^(-x)\n",
    "\n",
    "## without bias\n",
    "x = (-0.06)(2.7) + (-2.5)(-8.6) + (1.4)(0.002)\n",
    "x = 21.3408\n",
    "put in sigmoid function\n",
    "\n",
    "f(21.3408) = 0.999999999460728\n",
    "\n",
    "## with bias\n",
    "x = (-0.06)(2.7) + (-2.5)(-8.6) + (1.4)(0.002) + (-1.1)\n",
    "x = 20.2408\n",
    "put in function\n",
    "\n",
    "\n",
    "f(20.2408) = 0.999999998379936\n",
    "\n",
    "there is no change in output.\n",
    "In general Bias is a constant. When x = 0, the corresponding y-value is the bias(intercept). In the particular context of word problems, the y-intercept (that is, the point when x = 0) also refers to the starting value."
   ]
  },
  {
   "cell_type": "code",
   "execution_count": null,
   "metadata": {},
   "outputs": [],
   "source": []
  }
 ],
 "metadata": {
  "kernelspec": {
   "display_name": "Python 3",
   "language": "python",
   "name": "python3"
  },
  "language_info": {
   "codemirror_mode": {
    "name": "ipython",
    "version": 3
   },
   "file_extension": ".py",
   "mimetype": "text/x-python",
   "name": "python",
   "nbconvert_exporter": "python",
   "pygments_lexer": "ipython3",
   "version": "3.6.4"
  }
 },
 "nbformat": 4,
 "nbformat_minor": 2
}
